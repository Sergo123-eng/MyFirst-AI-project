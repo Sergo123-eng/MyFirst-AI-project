{
 "cells": [
  {
   "cell_type": "markdown",
   "id": "6e36d14a-e5e4-433f-8a33-897a19a32ed9",
   "metadata": {},
   "source": [
    "Basic Python Syntax Arthemtic Operators\n",
    "1+2=3\n",
    "1,2 here are called operands \n",
    "+,- Arthmetic operators\n"
   ]
  },
  {
   "cell_type": "code",
   "execution_count": 1,
   "id": "4ddc6c12-7406-4582-a887-9e8e7f9cac24",
   "metadata": {},
   "outputs": [
    {
     "data": {
      "text/plain": [
       "3"
      ]
     },
     "execution_count": 1,
     "metadata": {},
     "output_type": "execute_result"
    }
   ],
   "source": [
    "1+2"
   ]
  },
  {
   "cell_type": "code",
   "execution_count": 2,
   "id": "e6e7b54b-56f5-46ec-a540-12688f57ab07",
   "metadata": {},
   "outputs": [
    {
     "data": {
      "text/plain": [
       "-2"
      ]
     },
     "execution_count": 2,
     "metadata": {},
     "output_type": "execute_result"
    }
   ],
   "source": [
    "3-5"
   ]
  },
  {
   "cell_type": "code",
   "execution_count": 3,
   "id": "6475821d-c203-4b7c-ab6a-0c78227fac98",
   "metadata": {},
   "outputs": [
    {
     "data": {
      "text/plain": [
       "5.0"
      ]
     },
     "execution_count": 3,
     "metadata": {},
     "output_type": "execute_result"
    }
   ],
   "source": [
    "15/3"
   ]
  },
  {
   "cell_type": "code",
   "execution_count": 7,
   "id": "842a2667-cc78-4e21-a28f-18d70c189364",
   "metadata": {},
   "outputs": [
    {
     "data": {
      "text/plain": [
       "5.333333333333333"
      ]
     },
     "execution_count": 7,
     "metadata": {},
     "output_type": "execute_result"
    }
   ],
   "source": [
    "int(16)/3"
   ]
  },
  {
   "cell_type": "markdown",
   "id": "b80fd4ba-94b4-477b-b361-ab294ae3d577",
   "metadata": {},
   "source": [
    "Python 2 16/3 is 5\n",
    "Python 3 16/3 5.333"
   ]
  },
  {
   "cell_type": "code",
   "execution_count": 8,
   "id": "1b72ca73-4a08-46d1-ab86-f8bb5c7b1c30",
   "metadata": {},
   "outputs": [
    {
     "data": {
      "text/plain": [
       "1"
      ]
     },
     "execution_count": 8,
     "metadata": {},
     "output_type": "execute_result"
    }
   ],
   "source": [
    "16%3\n",
    "% sign gives you the reminder"
   ]
  },
  {
   "cell_type": "markdown",
   "id": "3dfce0ed-23f2-49b2-9c7f-23be8a0cd7d3",
   "metadata": {},
   "source": [
    "Multiplication sign *"
   ]
  },
  {
   "cell_type": "code",
   "execution_count": 10,
   "id": "05e62cd4-35dc-4f22-b53e-f1689fd1a0df",
   "metadata": {},
   "outputs": [],
   "source": [
    "x=5*3"
   ]
  },
  {
   "cell_type": "code",
   "execution_count": 13,
   "id": "1be1f0fb-8f17-420b-b360-b52d3dd9efdd",
   "metadata": {},
   "outputs": [
    {
     "data": {
      "text/plain": [
       "15"
      ]
     },
     "execution_count": 13,
     "metadata": {},
     "output_type": "execute_result"
    }
   ],
   "source": [
    "x\n"
   ]
  },
  {
   "cell_type": "markdown",
   "id": "fc89d96f-ca76-4e8f-8083-fcc6d37516a3",
   "metadata": {},
   "source": [
    "To make a power sign ** Raises the left operand to the power of the right operand"
   ]
  },
  {
   "cell_type": "code",
   "execution_count": 14,
   "id": "07a02f3a-c6d9-453f-bb96-0537c0e92f57",
   "metadata": {},
   "outputs": [
    {
     "data": {
      "text/plain": [
       "125"
      ]
     },
     "execution_count": 14,
     "metadata": {},
     "output_type": "execute_result"
    }
   ],
   "source": [
    "5**3"
   ]
  },
  {
   "cell_type": "markdown",
   "id": "c4157b0f-9ab1-4bb5-88a8-1990096942a8",
   "metadata": {},
   "source": [
    "The Double Equality Sign"
   ]
  },
  {
   "cell_type": "code",
   "execution_count": 15,
   "id": "13722164-c0b4-40a7-a095-50e453f9eee2",
   "metadata": {},
   "outputs": [],
   "source": [
    "y=5**3"
   ]
  },
  {
   "cell_type": "code",
   "execution_count": 16,
   "id": "816ba161-5a42-459a-82e4-1c0e93ecfce0",
   "metadata": {},
   "outputs": [
    {
     "data": {
      "text/plain": [
       "125"
      ]
     },
     "execution_count": 16,
     "metadata": {},
     "output_type": "execute_result"
    }
   ],
   "source": [
    "y"
   ]
  },
  {
   "cell_type": "code",
   "execution_count": 17,
   "id": "dd97f75b-0f3a-4129-9af4-48e156fe0949",
   "metadata": {},
   "outputs": [
    {
     "data": {
      "text/plain": [
       "True"
      ]
     },
     "execution_count": 17,
     "metadata": {},
     "output_type": "execute_result"
    }
   ],
   "source": [
    "y==125\n",
    "# this reads as y equals 125\n",
    "#When you run this command the computer will take it a question and it will answers True"
   ]
  },
  {
   "cell_type": "code",
   "execution_count": 18,
   "id": "b8080852-c257-4f01-8d74-0359f06dd8ae",
   "metadata": {},
   "outputs": [
    {
     "data": {
      "text/plain": [
       "False"
      ]
     },
     "execution_count": 18,
     "metadata": {},
     "output_type": "execute_result"
    }
   ],
   "source": [
    "y==126"
   ]
  },
  {
   "cell_type": "markdown",
   "id": "828c1507-4078-4026-a7a3-19092478897a",
   "metadata": {},
   "source": [
    "Remember when you mean equality between values  and not assigment of values in Pythonyou will need =="
   ]
  }
 ],
 "metadata": {
  "kernelspec": {
   "display_name": "Python 3 (ipykernel)",
   "language": "python",
   "name": "python3"
  },
  "language_info": {
   "codemirror_mode": {
    "name": "ipython",
    "version": 3
   },
   "file_extension": ".py",
   "mimetype": "text/x-python",
   "name": "python",
   "nbconvert_exporter": "python",
   "pygments_lexer": "ipython3",
   "version": "3.12.7"
  }
 },
 "nbformat": 4,
 "nbformat_minor": 5
}
